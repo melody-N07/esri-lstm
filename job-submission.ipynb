{
  "cells": [
    {
      "cell_type": "markdown",
      "source": [
        "#### Package Installation"
      ],
      "metadata": {
        "nteract": {
          "transient": {
            "deleting": false
          }
        }
      }
    },
    {
      "cell_type": "code",
      "source": [
        "!pip install azure-ai-ml\n",
        "!pip install azure-identity"
      ],
      "outputs": [],
      "execution_count": null,
      "metadata": {
        "jupyter": {
          "source_hidden": false,
          "outputs_hidden": false
        },
        "nteract": {
          "transient": {
            "deleting": false
          }
        },
        "gather": {
          "logged": 1697053488377
        }
      }
    },
    {
      "cell_type": "code",
      "source": [
        "from azure.ai.ml import MLClient\n",
        "from azure.identity import DefaultAzureCredential\n",
        "import os\n",
        "from azure.ai.ml import command\n",
        "from azure.ai.ml import Input"
      ],
      "outputs": [],
      "execution_count": 1,
      "metadata": {
        "gather": {
          "logged": 1697219797407
        }
      }
    },
    {
      "cell_type": "markdown",
      "source": [
        "#### Set Workplace Variables"
      ],
      "metadata": {
        "nteract": {
          "transient": {
            "deleting": false
          }
        }
      }
    },
    {
      "cell_type": "code",
      "source": [
        "#only for illustration, substitude for your own resources\n",
        "subscription_id=\"UNKNOWN\"\n",
        "resource_group_name=\"UNKNOWN\"\n",
        "workspace_name=\"UNKNOWN\"\n",
        "\n",
        "code_folder = './esri_train'\n",
        "experiment_name=\"esri-lstm\"\n",
        "env_name='esri-lstm-docker'\n",
        "env_version='latest'\n",
        "compute_cluster_name='UNKNOWN'  # GPU\n",
        "\n"
      ],
      "outputs": [],
      "execution_count": 8,
      "metadata": {
        "gather": {
          "logged": 1697219960620
        }
      }
    },
    {
      "cell_type": "markdown",
      "source": [
        "#### Configure Input Style"
      ],
      "metadata": {
        "nteract": {
          "transient": {
            "deleting": false
          }
        }
      }
    },
    {
      "cell_type": "code",
      "source": [
        "# default\n",
        "# arch = \"lstm(nodes,dropout)\"\n",
        "# arch = \"lstm(50,0.2);dense(40);lstm(50,0.01)\"\n",
        "\n",
        "arch = \"lstm(25,0.2,0)\"\n",
        "\n",
        "inputs = {\n",
        "    \"data\": Input(type=\"uri_file\", path=\"UNKNOWN\",), # newseq05\n",
        "    # \"lstm_nodes\": 100,\n",
        "    # \"dropout\": 0.2,\n",
        "    # \"batch_size\": 4,\n",
        "    \"batch_length\": 500,\n",
        "    \"input_length\": 5,\n",
        "    \"epochs\": 10,\n",
        "    \"embedding_vector_length\": 32,\n",
        "    \"validation_split\":0.2,\n",
        "    \"arch\":arch,\n",
        "}\n",
        "job_display_name = f\"{arch}-epochs_{inputs['epochs']}-{compute_cluster_name}-batch_{inputs['batch_length']}\"\n"
      ],
      "outputs": [],
      "execution_count": null,
      "metadata": {
        "jupyter": {
          "source_hidden": false,
          "outputs_hidden": false
        },
        "nteract": {
          "transient": {
            "deleting": false
          }
        }
      }
    },
    {
      "cell_type": "markdown",
      "source": [
        "#### Setup Training Job"
      ],
      "metadata": {
        "nteract": {
          "transient": {
            "deleting": false
          }
        }
      }
    },
    {
      "cell_type": "code",
      "source": [
        "credential = DefaultAzureCredential()\n",
        "ml_client = MLClient(\n",
        "    credential=credential,\n",
        "    subscription_id=subscription_id, \n",
        "    resource_group_name=resource_group_name, \n",
        "    workspace_name=workspace_name, \n",
        ")\n",
        "\n",
        "\n",
        "job = command(\n",
        "    compute=compute_cluster_name,\n",
        "    environment=f\"{env_name}@{env_version}\",\n",
        "    # environment=aml_env,\n",
        "    code= code_folder,  # location of source code\n",
        "    command='python main.py --data ${{inputs.data}} --input_length ${{inputs.input_length}}  --epochs ${{inputs.epochs}}  --embedding_vector_length ${{inputs.embedding_vector_length}}  --batch_length ${{inputs.batch_length}}   --validation_split ${{inputs.validation_split}} --arch \"${{inputs.arch}}\"',\n",
        "    # command=\"python main.py --data ${{inputs.data}} --lstm_nodes ${{inputs.lstm_nodes}}  --input_length ${{inputs.input_length}}  --epochs ${{inputs.epochs}}  --embedding_vector_length ${{inputs.embedding_vector_length}}  --batch_size ${{inputs.batch_size}}  --dropout ${{inputs.dropout}}  --validation_split ${{inputs.validation_split}}\",\n",
        "    inputs=inputs,\n",
        "    experiment_name=experiment_name,\n",
        "    display_name=job_display_name,\n",
        ")\n",
        "print(job)\n"
      ],
      "outputs": [
        {
          "output_type": "stream",
          "name": "stdout",
          "text": "type: command\ninputs:\n  data:\n    type: uri_file\n    path: azureml:new_seq05:1\n  batch_length: 500\n  input_length: 5\n  epochs: 10\n  embedding_vector_length: 32\n  validation_split: 0.2\n  arch: lstm(25,0.2,0)\nenvironment: azureml:esri-lstm-docker@latest\ncomponent:\n  name: azureml_anonymous\n  version: '1'\n  display_name: lstm(25,0.2,0)-epochs_10-gpu2-batch_500\n  type: command\n  inputs:\n    data:\n      type: uri_file\n    batch_length:\n      type: integer\n      default: '500'\n    input_length:\n      type: integer\n      default: '5'\n    epochs:\n      type: integer\n      default: '10'\n    embedding_vector_length:\n      type: integer\n      default: '32'\n    validation_split:\n      type: number\n      default: '0.2'\n    arch:\n      type: string\n      default: lstm(25,0.2,0)\n  command: python main.py --data ${{inputs.data}} --input_length ${{inputs.input_length}}  --epochs\n    ${{inputs.epochs}}  --embedding_vector_length ${{inputs.embedding_vector_length}}  --batch_length\n    ${{inputs.batch_length}}   --validation_split ${{inputs.validation_split}} --arch\n    \"${{inputs.arch}}\"\n  environment: azureml:esri-lstm-docker@latest\n  code: /mnt/batch/tasks/shared/LS_root/mounts/clusters/pooyaalavian1/code/Users/latra/esri_train\n  is_deterministic: true\ncompute: azureml:gpu2\n\n"
        }
      ],
      "execution_count": 9,
      "metadata": {
        "gather": {
          "logged": 1697219961925
        }
      }
    },
    {
      "cell_type": "code",
      "source": [
        "# Submit the job\n",
        "ml_client.create_or_update(job)\n"
      ],
      "outputs": [
        {
          "output_type": "execute_result",
          "execution_count": 10,
          "data": {
            "text/plain": "Command({'parameters': {}, 'init': False, 'name': 'tidy_oxygen_689ck2m9dl', 'type': 'command', 'status': 'Starting', 'log_files': None, 'description': None, 'tags': {}, 'properties': {'_azureml.ComputeTargetType': 'amlctrain', 'ContentSnapshotId': 'a5a7af18-e4af-482a-a736-660ed24f84eb'}, 'print_as_yaml': True, 'id': '/subscriptions/44a40342-0f21-4342-9de1-431e7d95c837/resourceGroups/MelRes/providers/Microsoft.MachineLearningServices/workspaces/MelWork/jobs/tidy_oxygen_689ck2m9dl', 'Resource__source_path': None, 'base_path': '/mnt/batch/tasks/shared/LS_root/mounts/clusters/pooyaalavian1/code/Users/latra', 'creation_context': <azure.ai.ml.entities._system_data.SystemData object at 0x7f0a2c47b7f0>, 'serialize': <msrest.serialization.Serializer object at 0x7f0a2c47b010>, 'allowed_keys': {}, 'key_restriction': False, 'logger': <Logger attr_dict (WARNING)>, 'display_name': 'lstm(25,0.2,0)-epochs_10-gpu2-batch_500', 'experiment_name': 'esri-lstm', 'compute': 'gpu2', 'services': {'Tracking': {'endpoint': 'azureml://eastus2.api.azureml.ms/mlflow/v1.0/subscriptions/44a40342-0f21-4342-9de1-431e7d95c837/resourceGroups/MelRes/providers/Microsoft.MachineLearningServices/workspaces/MelWork?', 'type': 'Tracking'}, 'Studio': {'endpoint': 'https://ml.azure.com/runs/tidy_oxygen_689ck2m9dl?wsid=/subscriptions/44a40342-0f21-4342-9de1-431e7d95c837/resourcegroups/MelRes/workspaces/MelWork&tid=16b3c013-d300-468d-ac64-7eda0820b6d3', 'type': 'Studio'}}, 'comment': None, 'job_inputs': {'data': {'type': 'uri_file', 'path': 'new_seq05:1', 'mode': 'ro_mount'}, 'batch_length': '500', 'input_length': '5', 'epochs': '10', 'embedding_vector_length': '32', 'validation_split': '0.2', 'arch': 'lstm(25,0.2,0)'}, 'job_outputs': {'default': {'type': 'uri_folder', 'path': 'azureml://datastores/workspaceartifactstore/ExperimentRun/dcid.tidy_oxygen_689ck2m9dl', 'mode': 'rw_mount'}}, 'inputs': {'data': <azure.ai.ml.entities._job.pipeline._io.base.NodeInput object at 0x7f0a2c47b700>, 'batch_length': <azure.ai.ml.entities._job.pipeline._io.base.NodeInput object at 0x7f0a2c47a620>, 'input_length': <azure.ai.ml.entities._job.pipeline._io.base.NodeInput object at 0x7f0a2c479bd0>, 'epochs': <azure.ai.ml.entities._job.pipeline._io.base.NodeInput object at 0x7f0a2c47b400>, 'embedding_vector_length': <azure.ai.ml.entities._job.pipeline._io.base.NodeInput object at 0x7f0a2c4785e0>, 'validation_split': <azure.ai.ml.entities._job.pipeline._io.base.NodeInput object at 0x7f0a2c47afb0>, 'arch': <azure.ai.ml.entities._job.pipeline._io.base.NodeInput object at 0x7f0a2c47aa40>}, 'outputs': {'default': <azure.ai.ml.entities._job.pipeline._io.base.NodeOutput object at 0x7f0a2c47b8b0>}, 'component': CommandComponent({'intellectual_property': None, 'auto_increment_version': True, 'source': 'REMOTE.WORKSPACE.JOB', 'is_anonymous': False, 'auto_delete_setting': None, 'name': 'tidy_oxygen_689ck2m9dl', 'description': None, 'tags': {}, 'properties': {}, 'print_as_yaml': True, 'id': None, 'Resource__source_path': None, 'base_path': PosixPath('.'), 'creation_context': <azure.ai.ml.entities._system_data.SystemData object at 0x7f0a2c47b7f0>, 'serialize': <msrest.serialization.Serializer object at 0x7f0a2c479ab0>, 'command': 'python main.py --data ${{inputs.data}} --input_length ${{inputs.input_length}}  --epochs ${{inputs.epochs}}  --embedding_vector_length ${{inputs.embedding_vector_length}}  --batch_length ${{inputs.batch_length}}   --validation_split ${{inputs.validation_split}} --arch \"${{inputs.arch}}\"', 'code': '/subscriptions/44a40342-0f21-4342-9de1-431e7d95c837/resourceGroups/MelRes/providers/Microsoft.MachineLearningServices/workspaces/MelWork/codes/fb87adb2-afa5-4ab0-a675-7a0ea8d0a85e/versions/1', 'environment_variables': {}, 'environment': '/subscriptions/44a40342-0f21-4342-9de1-431e7d95c837/resourceGroups/MelRes/providers/Microsoft.MachineLearningServices/workspaces/MelWork/environments/esri-lstm-docker/versions/1', 'distribution': None, 'resources': None, 'queue_settings': None, 'version': None, 'latest_version': None, 'schema': None, 'type': 'command', 'display_name': 'lstm(25,0.2,0)-epochs_10-gpu2-batch_500', 'is_deterministic': True, 'inputs': {'data': {'type': 'uri_file', 'path': '/subscriptions/44a40342-0f21-4342-9de1-431e7d95c837/resourceGroups/MelRes/providers/Microsoft.MachineLearningServices/workspaces/MelWork/data/new_seq05/versions/1', 'mode': 'ro_mount'}, 'batch_length': {'type': 'string', 'default': '500'}, 'input_length': {'type': 'string', 'default': '5'}, 'epochs': {'type': 'string', 'default': '10'}, 'embedding_vector_length': {'type': 'string', 'default': '32'}, 'validation_split': {'type': 'string', 'default': '0.2'}, 'arch': {'type': 'string', 'default': 'lstm(25,0.2,0)'}}, 'outputs': {'default': {'type': 'uri_folder', 'path': 'azureml://datastores/workspaceartifactstore/ExperimentRun/dcid.tidy_oxygen_689ck2m9dl', 'mode': 'rw_mount'}}, 'yaml_str': None, 'other_parameter': {'status': 'Starting', 'parameters': {}}, 'additional_includes': [], 'CommandComponent__additional_includes_obj': None}), 'referenced_control_flow_node_instance_id': None, 'kwargs': {'services': {'Tracking': {'endpoint': 'azureml://eastus2.api.azureml.ms/mlflow/v1.0/subscriptions/44a40342-0f21-4342-9de1-431e7d95c837/resourceGroups/MelRes/providers/Microsoft.MachineLearningServices/workspaces/MelWork?', 'type': 'Tracking'}, 'Studio': {'endpoint': 'https://ml.azure.com/runs/tidy_oxygen_689ck2m9dl?wsid=/subscriptions/44a40342-0f21-4342-9de1-431e7d95c837/resourcegroups/MelRes/workspaces/MelWork&tid=16b3c013-d300-468d-ac64-7eda0820b6d3', 'type': 'Studio'}}, 'status': 'Starting', 'creation_context': <azure.ai.ml.entities._system_data.SystemData object at 0x7f0a2c47b7f0>}, 'instance_id': '9f63a493-54b4-4d4b-90ac-321fd4d45ff1', 'source': 'BUILDER', 'validate_required_input_not_provided': True, 'limits': None, 'identity': None, 'distribution': None, 'environment_variables': {}, 'environment': 'esri-lstm-docker:1', 'resources': {'instance_count': 1, 'shm_size': '2g'}, 'queue_settings': None, 'swept': False})",
            "text/html": "<table style=\"width:100%\"><tr><th>Experiment</th><th>Name</th><th>Type</th><th>Status</th><th>Details Page</th></tr><tr><td>esri-lstm</td><td>tidy_oxygen_689ck2m9dl</td><td>command</td><td>Starting</td><td><a href=\"https://ml.azure.com/runs/tidy_oxygen_689ck2m9dl?wsid=/subscriptions/44a40342-0f21-4342-9de1-431e7d95c837/resourcegroups/MelRes/workspaces/MelWork&amp;tid=16b3c013-d300-468d-ac64-7eda0820b6d3\" target=\"_blank\" rel=\"noopener\">Link to Azure Machine Learning studio</a></td></tr></table>"
          },
          "metadata": {}
        }
      ],
      "execution_count": 10,
      "metadata": {
        "jupyter": {
          "source_hidden": false,
          "outputs_hidden": false
        },
        "nteract": {
          "transient": {
            "deleting": false
          }
        },
        "gather": {
          "logged": 1697219966875
        }
      }
    },
    {
      "cell_type": "code",
      "source": [
        "a = ml_client.environments.list()\n",
        "for d in a:\n",
        "    print(d.name)"
      ],
      "outputs": [
        {
          "output_type": "stream",
          "name": "stdout",
          "text": "esri-lstm-docker\nesri-lstm-env\naml-scikit-learn\nAzureML-AI-Studio-Development\nAzureML-ACPT-pytorch-1.13-py38-cuda11.7-gpu\nAzureML-ACPT-pytorch-1.12-py38-cuda11.6-gpu\nAzureML-ACPT-pytorch-1.12-py39-cuda11.6-gpu\nAzureML-ACPT-pytorch-1.11-py38-cuda11.5-gpu\nAzureML-ACPT-pytorch-1.11-py38-cuda11.3-gpu\nAzureML-responsibleai-0.21-ubuntu20.04-py38-cpu\nAzureML-responsibleai-0.20-ubuntu20.04-py38-cpu\nAzureML-tensorflow-2.5-ubuntu20.04-py38-cuda11-gpu\nAzureML-tensorflow-2.6-ubuntu20.04-py38-cuda11-gpu\nAzureML-tensorflow-2.7-ubuntu20.04-py38-cuda11-gpu\nAzureML-sklearn-1.0-ubuntu20.04-py38-cpu\nAzureML-pytorch-1.10-ubuntu18.04-py38-cuda11-gpu\nAzureML-pytorch-1.9-ubuntu18.04-py37-cuda11-gpu\nAzureML-pytorch-1.8-ubuntu18.04-py37-cuda11-gpu\nAzureML-sklearn-0.24-ubuntu18.04-py37-cpu\nAzureML-lightgbm-3.2-ubuntu18.04-py37-cpu\nAzureML-pytorch-1.7-ubuntu18.04-py37-cuda11-gpu\nAzureML-tensorflow-2.4-ubuntu18.04-py37-cuda11-gpu\nAzureML-Triton\nAzureML-Designer-Score\nAzureML-VowpalWabbit-8.8.0\nAzureML-PyTorch-1.3-CPU\n"
        }
      ],
      "execution_count": 7,
      "metadata": {
        "jupyter": {
          "source_hidden": false,
          "outputs_hidden": false
        },
        "nteract": {
          "transient": {
            "deleting": false
          }
        },
        "gather": {
          "logged": 1697219943813
        }
      }
    },
    {
      "cell_type": "code",
      "source": [],
      "outputs": [],
      "execution_count": null,
      "metadata": {
        "jupyter": {
          "source_hidden": false,
          "outputs_hidden": false
        },
        "nteract": {
          "transient": {
            "deleting": false
          }
        }
      }
    }
  ],
  "metadata": {
    "kernel_info": {
      "name": "python310-sdkv2"
    },
    "kernelspec": {
      "name": "python310-sdkv2",
      "language": "python",
      "display_name": "Python 3.10 - SDK v2"
    },
    "language_info": {
      "name": "python",
      "version": "3.10.11",
      "mimetype": "text/x-python",
      "codemirror_mode": {
        "name": "ipython",
        "version": 3
      },
      "pygments_lexer": "ipython3",
      "nbconvert_exporter": "python",
      "file_extension": ".py"
    },
    "microsoft": {
      "host": {
        "AzureML": {
          "notebookHasBeenCompleted": true
        }
      },
      "ms_spell_check": {
        "ms_spell_check_language": "en"
      }
    },
    "nteract": {
      "version": "nteract-front-end@1.0.0"
    },
    "orig_nbformat": 4
  },
  "nbformat": 4,
  "nbformat_minor": 2
}